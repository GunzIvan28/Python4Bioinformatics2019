{
 "cells": [
  {
   "cell_type": "markdown",
   "metadata": {},
   "source": [
    "### **Ivan's Python Notebook**\n",
    "\n",
    "\n",
    "**_Basic Syntax & Rules_**"
   ]
  },
  {
   "cell_type": "markdown",
   "metadata": {},
   "source": [
    "1. No spaces or tab characters allowed at the start of a statement: Indentation plays a special role in Python. For now, simply ensure that all statements start at the beginning of the line.\n",
    "2. The '#' character indicates that the rest of the line is a comment\n",
    "3. Statements finish at the end of the line:\n",
    "4. Except when there is an open bracket or parenthesis:"
   ]
  },
  {
   "cell_type": "code",
   "execution_count": null,
   "metadata": {},
   "outputs": [],
   "source": [
    "#1+2     #*all expressions starting with '#' are considered silent and NEVER executed by python interpreter*"
   ]
  },
  {
   "cell_type": "code",
   "execution_count": null,
   "metadata": {},
   "outputs": [],
   "source": [
    "(1+2\n",
    "        +3)      #*statements enclosed within the curly brackets irrespective of indendention are executed*"
   ]
  },
  {
   "cell_type": "code",
   "execution_count": null,
   "metadata": {},
   "outputs": [],
   "source": [
    "(1+2  \\\n",
    "        +9)      #*a single backslash at the end of a line signifies continuation of a statement*"
   ]
  },
  {
   "cell_type": "markdown",
   "metadata": {},
   "source": [
    "Try these out and see what happens"
   ]
  },
  {
   "cell_type": "code",
   "execution_count": null,
   "metadata": {},
   "outputs": [],
   "source": [
    "(1+3\n",
    " +9)"
   ]
  },
  {
   "cell_type": "code",
   "execution_count": null,
   "metadata": {},
   "outputs": [],
   "source": [
    "1+3  \\\n",
    "         +9"
   ]
  },
  {
   "cell_type": "code",
   "execution_count": null,
   "metadata": {},
   "outputs": [],
   "source": [
    "4*4              #_doing multiplication_"
   ]
  },
  {
   "cell_type": "markdown",
   "metadata": {},
   "source": [
    "**_Numbers, Integers, Fractions & Operators_**"
   ]
  },
  {
   "cell_type": "markdown",
   "metadata": {},
   "source": [
    "1. Whole numbers are considered as integers with type (int) irrespective of their frequency (e.g 2, 4, 8, 22,5784)\n",
    "2. Fractions/decimal point numbers are of type (float) for example 6.27, 5.0,  3.7\n",
    "3. Division of numbers that return integer results are regarded as _floor_.\n",
    "4. Division of numbers that return fractions or decimals results regarded as _float_.\n",
    "5. Arithmetical operator \"//\" when used yields results in _floor_.\n",
    "6. Arithmetical operator \"/\" when used yields results in  _float_.\n",
    "7. Arithmetical operator \"%\" when used in division shows only the remainder\n",
    "8. ** indicates to the power to"
   ]
  },
  {
   "cell_type": "code",
   "execution_count": null,
   "metadata": {},
   "outputs": [],
   "source": [
    "50 - 5*6"
   ]
  },
  {
   "cell_type": "code",
   "execution_count": null,
   "metadata": {},
   "outputs": [],
   "source": [
    "(50 - 5*6) / 4    # division always returns a floating point number"
   ]
  },
  {
   "cell_type": "code",
   "execution_count": null,
   "metadata": {},
   "outputs": [],
   "source": [
    "17 / 3    # classic division returns a float"
   ]
  },
  {
   "cell_type": "code",
   "execution_count": null,
   "metadata": {},
   "outputs": [],
   "source": [
    "17 // 3  # floor division discards the fractional part"
   ]
  },
  {
   "cell_type": "code",
   "execution_count": null,
   "metadata": {},
   "outputs": [],
   "source": [
    "17 % 3  # the % operator returns the remainder of the division"
   ]
  },
  {
   "cell_type": "code",
   "execution_count": null,
   "metadata": {},
   "outputs": [],
   "source": [
    "5 * 3 + 2  # result * divisor + remainder"
   ]
  },
  {
   "cell_type": "markdown",
   "metadata": {},
   "source": [
    "With Python, it is possible to use the ** operator to calculate powers"
   ]
  },
  {
   "cell_type": "code",
   "execution_count": null,
   "metadata": {},
   "outputs": [],
   "source": [
    "5 ** 2  # 5 squared"
   ]
  },
  {
   "cell_type": "code",
   "execution_count": null,
   "metadata": {},
   "outputs": [],
   "source": [
    "2 ** 7  # 2 to the power of 7"
   ]
  },
  {
   "cell_type": "markdown",
   "metadata": {},
   "source": [
    "Relational operators also further describe relationships between objects  \n",
    "\n",
    "|  Symbol   |   Task performed     |\n",
    "|:---------:| -----------------:   |\n",
    "|  ==       | True if equal        |\n",
    "|  !=       | True if not equal    |\n",
    "|  <        | Less than            |\n",
    "|  >        | Greater than         |\n",
    "|  <=       | Less or equal to     |\n",
    "|  >=       | Greater or equal     |"
   ]
  },
  {
   "cell_type": "code",
   "execution_count": null,
   "metadata": {},
   "outputs": [],
   "source": [
    "width = 20\n",
    "height = 5 * 9\n",
    "width * height      # The equal sign (=) is used to assign a value to a variable. Afterwards, no result is displayed before the next interactive prompt\n",
    "                    # z=2 is an assignment to a variable while z==2 equates [== (equality test) and = (assignment)]"
   ]
  },
  {
   "cell_type": "code",
   "execution_count": null,
   "metadata": {},
   "outputs": [],
   "source": [
    "z = 2\n",
    "z == 2"
   ]
  },
  {
   "cell_type": "code",
   "execution_count": null,
   "metadata": {},
   "outputs": [],
   "source": [
    "z > 2"
   ]
  },
  {
   "cell_type": "code",
   "execution_count": null,
   "metadata": {},
   "outputs": [],
   "source": [
    "0.5 < z <= 1"
   ]
  },
  {
   "cell_type": "markdown",
   "metadata": {},
   "source": [
    "In interactive mode, the last printed expression is assigned to the variable _. _This means that when you are using Python as a desk calculator, it is somewhat easier to continue calculations, for example:_"
   ]
  },
  {
   "cell_type": "code",
   "execution_count": null,
   "metadata": {},
   "outputs": [],
   "source": [
    "tax = 12.5 / 100\n",
    "price = 100.50"
   ]
  },
  {
   "cell_type": "code",
   "execution_count": null,
   "metadata": {},
   "outputs": [],
   "source": [
    "price * tax     # Stipulated formula"
   ]
  },
  {
   "cell_type": "code",
   "execution_count": null,
   "metadata": {},
   "outputs": [],
   "source": [
    "price + _       # Underscore or _ uses the last output as input for the current session"
   ]
  },
  {
   "cell_type": "code",
   "execution_count": null,
   "metadata": {},
   "outputs": [],
   "source": [
    "round(_, 2)     # Incase you decide we want the result rounded of to 2 decimal points"
   ]
  },
  {
   "cell_type": "markdown",
   "metadata": {},
   "source": [
    "\n",
    "***_Variables & Strings_***\n"
   ]
  },
  {
   "cell_type": "markdown",
   "metadata": {},
   "source": [
    "Variables are names assigned to values or something. The equal sign (=) is used to assign a value to a variable. Afterwards, no result is displayed before the next interactive prompt:"
   ]
  },
  {
   "cell_type": "code",
   "execution_count": null,
   "metadata": {},
   "outputs": [],
   "source": [
    "a =  2+9"
   ]
  },
  {
   "cell_type": "code",
   "execution_count": null,
   "metadata": {},
   "outputs": [],
   "source": [
    "a*9"
   ]
  },
  {
   "cell_type": "code",
   "execution_count": null,
   "metadata": {},
   "outputs": [],
   "source": [
    "x = 2          # anything after a '#' is a comment\n",
    "y = 5\n",
    "xy = 'Hey'\n",
    "print(x+y, xy)"
   ]
  },
  {
   "cell_type": "code",
   "execution_count": null,
   "metadata": {},
   "outputs": [],
   "source": [
    "x = y = 1\n",
    "print(x,y)     # Multiple variables can be assigned the same value"
   ]
  },
  {
   "cell_type": "code",
   "execution_count": null,
   "metadata": {},
   "outputs": [],
   "source": [
    "n              # If a variable is not “defined” (assigned a value), trying to use it will give you an error"
   ]
  },
  {
   "cell_type": "markdown",
   "metadata": {},
   "source": [
    "Python can also manipulate **strings**, which can be expressed in several ways. A string is enclosed in a pair of single or double quotes:"
   ]
  },
  {
   "cell_type": "code",
   "execution_count": null,
   "metadata": {},
   "outputs": [],
   "source": [
    "dna=\"ATCGTAGTACGGTA\"\n",
    "type(dna)"
   ]
  },
  {
   "cell_type": "markdown",
   "metadata": {},
   "source": [
    "When you have long strings, you can enclose with triple double quotes. This allows for spaces and new lines"
   ]
  },
  {
   "cell_type": "code",
   "execution_count": null,
   "metadata": {},
   "outputs": [],
   "source": [
    "aa = \"\"\"MKQLNFYKKN SLNNVQEVFS YFMETMISTN RTWEYFINWD KVFNGADKYR NELMKLNSLC GS\n",
    "LFPGEELK SLLKKTPDVV KAFPLLLAVR DESISLLD\"\"\"\n",
    "\n",
    "print(aa)\n",
    "\n",
    "type(aa)"
   ]
  },
  {
   "cell_type": "markdown",
   "metadata": {},
   "source": [
    "Two or more string literals (i.e. the ones enclosed between quotes) next to each other are automatically concatenated"
   ]
  },
  {
   "cell_type": "code",
   "execution_count": null,
   "metadata": {},
   "outputs": [],
   "source": [
    "print('iv''an')\n",
    "print(\"py\"'thon')"
   ]
  },
  {
   "cell_type": "code",
   "execution_count": null,
   "metadata": {},
   "outputs": [],
   "source": [
    "text = ('Put several strings within parentheses '\n",
    "        'to have them joined together.')\n",
    "text              # This feature is particularly useful when you want to break long strings"
   ]
  },
  {
   "cell_type": "markdown",
   "metadata": {},
   "source": [
    "This only works with two literals though, not with variables or expressions:"
   ]
  },
  {
   "cell_type": "code",
   "execution_count": null,
   "metadata": {},
   "outputs": [],
   "source": [
    "prefix = 'iv'   # This is a classical variable\n",
    "prefix 'an'    # This is a literal  and concatenation can never occur when this is executed"
   ]
  },
  {
   "cell_type": "markdown",
   "metadata": {},
   "source": [
    "If you want to concatenate variables or a variable and a literal, use +:"
   ]
  },
  {
   "cell_type": "code",
   "execution_count": null,
   "metadata": {},
   "outputs": [],
   "source": [
    "prefix + 'an'"
   ]
  },
  {
   "cell_type": "markdown",
   "metadata": {},
   "source": [
    "String literals can span multiple lines; using tripple quotes gives you power to write your strings as long as you want. Take the example of 'man ls' below:"
   ]
  },
  {
   "cell_type": "code",
   "execution_count": null,
   "metadata": {},
   "outputs": [],
   "source": [
    "print(\"\"\"\\ \n",
    "NAME   \n",
    "       ls - list directory contents\n",
    "\n",
    "SYNOPSIS\n",
    "       ls [OPTION]... [FILE]...\n",
    "\n",
    "DESCRIPTION\n",
    "       List information about the FILEs (the current directory by default).  Sort entries alphabetically if none of -cftuvSUX nor --sort is specified.\n",
    "\n",
    "       Mandatory arguments to long options are mandatory for short options too.\n",
    "\n",
    "       -a, --all\n",
    "              do not ignore entries starting with .\n",
    "\n",
    "       -A, --almost-all\n",
    "              do not list implied . and ..\n",
    "\n",
    "       --author\n",
    "              with -l, print the author of each file\n",
    "\n",
    "       -b, --escape\n",
    "              print C-style escapes for nongraphic characters\n",
    "\n",
    "       --block-size=SIZE\n",
    "              scale sizes by SIZE before printing them; e.g., '--block-size=M' prints sizes in units of 1,048,576 bytes; see SIZE format below\n",
    "\"\"\")             \n",
    "# Notice the \\ we have escaped at the after the beginning tripple quotes; this tells the interpreter to take all foollowing input till the closing quotes as ends of sentences are added automotically in strings"
   ]
  },
  {
   "cell_type": "markdown",
   "metadata": {},
   "source": [
    "Four binary operators act on strings: **in , not in , + , and ***.  Strings can be concatenated (glued together) with the + operator, and repeated with *"
   ]
  },
  {
   "cell_type": "code",
   "execution_count": null,
   "metadata": {},
   "outputs": [],
   "source": [
    "trna='AAGGGCTTAGCTTAATTAAAGTGGCTGATTTGCGTTCAGTTGATGCAGAGTGGGGTTTTGCAGTCCTTA' #Using this tRNA string\n",
    "\n",
    "'ATTAA' + 'GGCTGTT'"
   ]
  },
  {
   "cell_type": "code",
   "execution_count": null,
   "metadata": {},
   "outputs": [],
   "source": [
    "'ATTAA' in trna # we can check if a given motif is in sequence [in means checks for presence]"
   ]
  },
  {
   "cell_type": "code",
   "execution_count": null,
   "metadata": {},
   "outputs": [],
   "source": [
    "'GGCTGTT' not in trna # We can also check if a given motif is absent['not in' looks for absence]"
   ]
  },
  {
   "cell_type": "code",
   "execution_count": null,
   "metadata": {},
   "outputs": [],
   "source": [
    "3 * 'un' + 'ium' # 3 times 'un', followed by 'ium'"
   ]
  },
  {
   "cell_type": "markdown",
   "metadata": {},
   "source": [
    "Strings also come with some rules which have to be followed especially when it comes to use of special characters within the strings themselves as illustrated:"
   ]
  },
  {
   "cell_type": "code",
   "execution_count": null,
   "metadata": {},
   "outputs": [],
   "source": [
    "print('spam eggs')\n",
    "print(\"spam eggs\")    # Literally mean the same thing and give identical output"
   ]
  },
  {
   "cell_type": "code",
   "execution_count": null,
   "metadata": {},
   "outputs": [],
   "source": [
    "print(\"doesn't\")        # an apostrophe in a string is enclosed by double quotes [usually the ideal way]\n",
    "print('doesn't')          # this can never execute; notice that single quotes cannot enclose an apostrophe in a string so modify the code using \"\\\" to escape the apostrophe like this:\n",
    "      \n",
    "print('doesn\\'t')         # the \\ before the ' ensures that single quoted strings work with the apostrophe\n",
    "print('\"Yes\", he said')    # this works as well as the code below\n",
    "\n",
    "print(\"\\\"Yes,\\\"he said\")"
   ]
  },
  {
   "cell_type": "markdown",
   "metadata": {},
   "source": [
    "Addition of \"\\n\" to a string tells the interpreter to move the word after \"\\n\" to the next line"
   ]
  },
  {
   "cell_type": "code",
   "execution_count": null,
   "metadata": {},
   "outputs": [],
   "source": [
    "print('The boy \\n is mine')\n",
    "print(\"Billie \\n Jean is not my son\")"
   ]
  },
  {
   "cell_type": "markdown",
   "metadata": {},
   "source": [
    "If you don’t want characters prefaced by \\ to be interpreted as special characters, you can use raw strings by adding an r before the first quote:"
   ]
  },
  {
   "cell_type": "code",
   "execution_count": null,
   "metadata": {},
   "outputs": [],
   "source": [
    "print(r'The boy \\n is mine')\n",
    "print(\"Billie\\n Jean is not my son\")\n",
    "print(r\"Billie\\Jean is not my son\")"
   ]
  },
  {
   "cell_type": "markdown",
   "metadata": {},
   "source": [
    "\n",
    "## ***String Formatting***"
   ]
  },
  {
   "cell_type": "markdown",
   "metadata": {},
   "source": [
    "- When concatenating strings, always remember to use the + sign to join up everything you want to be output;   \n",
    "- By default, spaces are not added to the strings so create them using ...+\"space\"+... or ...+'space'+...   \n",
    "- Combining or using either \" \" or ' ' OR both doesn't affect the output"
   ]
  },
  {
   "cell_type": "code",
   "execution_count": null,
   "metadata": {},
   "outputs": [],
   "source": [
    "string1=\"Billie\"\n",
    "string2='Jean is not my son'\n",
    "string3='!'                             # First thing you do is enter all the strings you want to use\n",
    "\n",
    "print(string1+\" \"+string2+string3+ ' ' + str('#am_out#'))"
   ]
  },
  {
   "cell_type": "markdown",
   "metadata": {},
   "source": [
    "- The modulo operator or % comes in quite handy when you want to combine multiple strings   \n",
    "- It is placed just before the value of the string you want to insert\n",
    "- Format specifiers tell the interpreter the kind of string that is to be inserted\n",
    "- The ending parenthesis is preceeded by % giving the order of string array separated by ,   \n",
    "\n",
    "A list of the common format speifiers is shown below\n",
    "\n",
    "    - %s -> string\n",
    "    - %d -> Integer\n",
    "    - %f -> Float\n",
    "    - %o -> Octal\n",
    "    - %x -> Hexadecimal\n",
    "    - %e -> exponential"
   ]
  },
  {
   "cell_type": "code",
   "execution_count": null,
   "metadata": {},
   "outputs": [],
   "source": [
    "print(\"Hello World %s %s %s %s %s.\" %(string1,string3,string2,string3,string3))"
   ]
  },
  {
   "cell_type": "code",
   "execution_count": null,
   "metadata": {},
   "outputs": [],
   "source": [
    "print(\"Hello World %s %s %s %s %s\" %(string1,string3,string2,string3))  # Can you identify why this code is showing an error?"
   ]
  },
  {
   "cell_type": "code",
   "execution_count": null,
   "metadata": {},
   "outputs": [],
   "source": [
    "#Lets make some more modifications to our code\n",
    "\n",
    "print(\"Hello World, I am just %d%s %s %s%s %f sure.\" %(22,string3,string1,string2,string3,0.99))\n",
    "\n"
   ]
  },
  {
   "cell_type": "markdown",
   "metadata": {},
   "source": [
    "Strings can be indexed (subscripted), with the first character having index 0. There is no separate character type; a character is simply a string of size one:"
   ]
  },
  {
   "cell_type": "code",
   "execution_count": null,
   "metadata": {},
   "outputs": [],
   "source": [
    "word='python'"
   ]
  },
  {
   "cell_type": "code",
   "execution_count": null,
   "metadata": {},
   "outputs": [],
   "source": [
    "word[0]    # character in position 0\n",
    "word[4]    # character in position 4\n",
    "word[5]    # character in position 5\n",
    "\n",
    "#Indices may also be negative numbers, to start counting from the right:\n",
    "word[-1]   # last character starting from right\n",
    "word[-4]   # 4th character from the right"
   ]
  },
  {
   "cell_type": "markdown",
   "metadata": {},
   "source": [
    "In addition to indexing, slicing is also supported. While indexing is used to obtain individual characters, slicing allows you to obtain substring:"
   ]
  },
  {
   "cell_type": "code",
   "execution_count": null,
   "metadata": {},
   "outputs": [],
   "source": [
    "word[0:2]  # characters from position 0 (included) to 2 (excluded)"
   ]
  },
  {
   "cell_type": "code",
   "execution_count": null,
   "metadata": {},
   "outputs": [],
   "source": [
    "word[2:5]  # characters from position 2 (included) to 5 (excluded)"
   ]
  },
  {
   "cell_type": "code",
   "execution_count": null,
   "metadata": {},
   "outputs": [],
   "source": [
    "word[:2] + word[2:]"
   ]
  },
  {
   "cell_type": "code",
   "execution_count": null,
   "metadata": {},
   "outputs": [],
   "source": [
    "word[:4] + word[4:]  # Note how the start is always included, and the end always excluded. This makes sure that s[:i] + s[i:] is always equal to s"
   ]
  },
  {
   "cell_type": "markdown",
   "metadata": {},
   "source": [
    "Note: Positioning of the ':'relative to the value given specifies whether the value is from the beginning (leftside of :) or towards the end (rightside of :)"
   ]
  },
  {
   "cell_type": "code",
   "execution_count": null,
   "metadata": {},
   "outputs": [],
   "source": [
    "word[:2]   # character from the beginning to position 2 (excluded)"
   ]
  },
  {
   "cell_type": "code",
   "execution_count": null,
   "metadata": {},
   "outputs": [],
   "source": [
    "word[4:]   # characters from position 4 (included) to the end"
   ]
  },
  {
   "cell_type": "code",
   "execution_count": null,
   "metadata": {},
   "outputs": [],
   "source": [
    "word[-2:]  # characters from the second-last (included) to the end"
   ]
  },
  {
   "cell_type": "code",
   "execution_count": null,
   "metadata": {},
   "outputs": [],
   "source": []
  }
 ],
 "metadata": {
  "kernelspec": {
   "display_name": "Python 3",
   "language": "python",
   "name": "python3"
  },
  "language_info": {
   "codemirror_mode": {
    "name": "ipython",
    "version": 3
   },
   "file_extension": ".py",
   "mimetype": "text/x-python",
   "name": "python",
   "nbconvert_exporter": "python",
   "pygments_lexer": "ipython3",
   "version": "3.7.3"
  }
 },
 "nbformat": 4,
 "nbformat_minor": 4
}
